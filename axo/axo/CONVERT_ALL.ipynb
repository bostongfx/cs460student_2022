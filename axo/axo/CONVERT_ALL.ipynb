{
 "cells": [
  {
   "cell_type": "code",
   "execution_count": 3,
   "id": "f90cc02d",
   "metadata": {},
   "outputs": [
    {
     "name": "stdout",
     "output_type": "stream",
     "text": [
      "%pylab is deprecated, use %matplotlib inline and import the required libraries.\n",
      "Populating the interactive namespace from numpy and matplotlib\n"
     ]
    }
   ],
   "source": [
    "%pylab inline"
   ]
  },
  {
   "cell_type": "code",
   "execution_count": 4,
   "id": "178de6ba",
   "metadata": {},
   "outputs": [],
   "source": [
    "from aicsimageio import AICSImage\n",
    "import pyvips\n",
    "import os, time"
   ]
  },
  {
   "cell_type": "code",
   "execution_count": 5,
   "id": "49a85b3d",
   "metadata": {},
   "outputs": [],
   "source": [
    "DATA_DIR = \"/media/haehn/Seagate Portable Drive/Axolotl Project (E.L., McCusker Lab)/\""
   ]
  },
  {
   "cell_type": "code",
   "execution_count": 15,
   "id": "e417ebc5",
   "metadata": {},
   "outputs": [],
   "source": [
    "YOUNG_DIR = os.path.join(DATA_DIR, 'Young Sections of Wound Site/')\n",
    "AGED_DIR = os.path.join(DATA_DIR, 'Aged Sections of Wound Site/')"
   ]
  },
  {
   "cell_type": "code",
   "execution_count": 16,
   "id": "c5b511c1",
   "metadata": {},
   "outputs": [],
   "source": [
    "YOUNG_SCANS = os.listdir(YOUNG_DIR)\n",
    "AGED_SCANS = os.listdir(AGED_DIR)"
   ]
  },
  {
   "cell_type": "code",
   "execution_count": 17,
   "id": "42cbf9cb",
   "metadata": {},
   "outputs": [
    {
     "data": {
      "text/plain": [
       "(['W255B', 'W324B', 'W326B', 'W340B', 'W353B'], ['W408B', 'W409B', 'W411B'])"
      ]
     },
     "execution_count": 17,
     "metadata": {},
     "output_type": "execute_result"
    }
   ],
   "source": [
    "YOUNG_SCANS, AGED_SCANS"
   ]
  },
  {
   "cell_type": "code",
   "execution_count": 14,
   "id": "bd32aaf6",
   "metadata": {},
   "outputs": [
    {
     "name": "stdout",
     "output_type": "stream",
     "text": [
      "Done loading scene 0 after 5.650924921035767\n",
      "Done loading scene 1 after 5.304802656173706\n",
      "Done loading scene 2 after 5.510134220123291\n",
      "Done converting scene 0 after 4.16484808921814\n",
      "Done converting scene 1 after 4.14035701751709\n",
      "Done converting scene 2 after 4.122035503387451\n",
      "Done loading scene 0 after 15.63318943977356\n",
      "Done loading scene 1 after 15.775464296340942\n",
      "Done loading scene 2 after 15.524723768234253\n",
      "Done converting scene 0 after 4.248596668243408\n",
      "Done converting scene 1 after 4.281427621841431\n",
      "Done converting scene 2 after 4.274824142456055\n",
      "Done loading scene 0 after 15.669631242752075\n",
      "Done loading scene 1 after 15.503218650817871\n",
      "Done loading scene 2 after 14.0646653175354\n",
      "Done converting scene 0 after 4.84491753578186\n",
      "Done converting scene 1 after 4.660733222961426\n",
      "Done converting scene 2 after 4.395617723464966\n",
      "Done loading scene 0 after 17.699342489242554\n",
      "Done loading scene 1 after 17.648472785949707\n",
      "Done loading scene 2 after 19.415852546691895\n",
      "Done converting scene 0 after 4.997026443481445\n",
      "Done converting scene 1 after 4.9254186153411865\n",
      "Done converting scene 2 after 5.405339241027832\n",
      "Done loading scene 0 after 12.417738199234009\n",
      "Done loading scene 1 after 12.305858850479126\n",
      "Done loading scene 2 after 12.328145265579224\n",
      "Done converting scene 0 after 3.90873384475708\n",
      "Done converting scene 1 after 3.892270803451538\n",
      "Done converting scene 2 after 3.9350030422210693\n"
     ]
    }
   ],
   "source": [
    "for s in YOUNG_SCANS:\n",
    "    OUTPUT_DIR = \"web/data/\" + s \n",
    "    \n",
    "    SCAN_DIR = os.path.join(YOUNG_DIR, s)\n",
    "    IMG_FILE = os.path.join(SCAN_DIR, os.listdir(SCAN_DIR)[0])\n",
    "    img = AICSImage(IMG_FILE)\n",
    "\n",
    "    slices = []\n",
    "    for i,s in enumerate(img.scenes):\n",
    "        t0 = time.time()\n",
    "\n",
    "        stack = img.get_stack(select_scenes=[i])\n",
    "\n",
    "        r = stack[0,0,0,0,:,:,2].astype(float)\n",
    "        r /= r.max()\n",
    "        r *= 255\n",
    "        r = r.astype(np.uint8)\n",
    "        g = stack[0,0,0,0,:,:,1].astype(float)\n",
    "        g /= g.max()\n",
    "        g *= 255\n",
    "        g = g.astype(np.uint8)\n",
    "        b = stack[0,0,0,0,:,:,0].astype(float)\n",
    "        b /= b.max()\n",
    "        b *= 255\n",
    "        b = b.astype(np.uint8)\n",
    "\n",
    "        arr = np.stack((r,g,b), axis=-1)\n",
    "        slices.append( arr )\n",
    "        print('Done loading scene', i, 'after', time.time()-t0)\n",
    "\n",
    "    for i,s in enumerate(slices):\n",
    "        t0 = time.time()\n",
    "        vips_img = pyvips.Image.new_from_array(s)\n",
    "        vips_img.dzsave(OUTPUT_DIR+'_'+str(i))\n",
    "        print('Done converting scene', i, 'after', time.time()-t0)\n"
   ]
  },
  {
   "cell_type": "code",
   "execution_count": 19,
   "id": "cfc20f6c",
   "metadata": {},
   "outputs": [
    {
     "name": "stdout",
     "output_type": "stream",
     "text": [
      "Done loading scene 0 after 0.7165982723236084\n",
      "Done loading scene 1 after 0.7525544166564941\n",
      "Done loading scene 2 after 0.6566977500915527\n",
      "Done loading scene 3 after 0.6872725486755371\n",
      "Done loading scene 4 after 35.31559872627258\n",
      "Done loading scene 5 after 29.097463130950928\n",
      "Done loading scene 6 after 0.7591173648834229\n",
      "Done loading scene 7 after 26.987127780914307\n",
      "Done loading scene 8 after 0.7382247447967529\n",
      "Done loading scene 9 after 0.6986594200134277\n",
      "Done loading scene 10 after 0.6765475273132324\n",
      "Done loading scene 11 after 0.6519875526428223\n",
      "Done loading scene 12 after 0.6502447128295898\n",
      "Done loading scene 13 after 0.6666529178619385\n",
      "Done loading scene 14 after 0.6662402153015137\n",
      "Done loading scene 15 after 0.6217875480651855\n",
      "Done loading scene 16 after 0.6407005786895752\n",
      "Done loading scene 17 after 0.6911594867706299\n",
      "Done loading scene 18 after 29.932854652404785\n",
      "Done loading scene 19 after 0.7518596649169922\n",
      "Done loading scene 20 after 0.6879816055297852\n",
      "Done loading scene 21 after 0.6761372089385986\n",
      "Done loading scene 22 after 0.6762127876281738\n",
      "Done loading scene 23 after 32.816075563430786\n",
      "Done loading scene 24 after 28.884664297103882\n",
      "Done loading scene 25 after 0.772139310836792\n",
      "Done loading scene 26 after 0.66658616065979\n",
      "Done loading scene 27 after 0.648174524307251\n",
      "Done loading scene 28 after 0.6302361488342285\n",
      "Done loading scene 29 after 0.6544082164764404\n",
      "Done converting scene 0 after 0.2534058094024658\n",
      "Done converting scene 1 after 0.2606778144836426\n",
      "Done converting scene 2 after 0.27691221237182617\n",
      "Done converting scene 3 after 0.26397228240966797\n",
      "Done converting scene 4 after 7.4389119148254395\n",
      "Done converting scene 5 after 6.252023935317993\n",
      "Done converting scene 6 after 0.24902057647705078\n",
      "Done converting scene 7 after 5.96876072883606\n",
      "Done converting scene 8 after 0.24372291564941406\n",
      "Done converting scene 9 after 0.2663898468017578\n",
      "Done converting scene 10 after 0.2670407295227051\n",
      "Done converting scene 11 after 0.25452613830566406\n",
      "Done converting scene 12 after 0.26052308082580566\n",
      "Done converting scene 13 after 0.2632136344909668\n",
      "Done converting scene 14 after 0.2673640251159668\n",
      "Done converting scene 15 after 0.2691829204559326\n",
      "Done converting scene 16 after 0.27652907371520996\n",
      "Done converting scene 17 after 0.2705528736114502\n",
      "Done converting scene 18 after 6.361896991729736\n",
      "Done converting scene 19 after 0.24699664115905762\n",
      "Done converting scene 20 after 0.269270658493042\n",
      "Done converting scene 21 after 0.27313899993896484\n",
      "Done converting scene 22 after 0.2698557376861572\n",
      "Done converting scene 23 after 7.028417110443115\n",
      "Done converting scene 24 after 6.369272947311401\n",
      "Done converting scene 25 after 0.25837087631225586\n",
      "Done converting scene 26 after 0.2652597427368164\n",
      "Done converting scene 27 after 0.2645301818847656\n",
      "Done converting scene 28 after 0.2706258296966553\n",
      "Done converting scene 29 after 0.27381396293640137\n",
      "Done loading scene 0 after 32.42290449142456\n",
      "Done loading scene 1 after 31.526514530181885\n",
      "Done loading scene 2 after 32.1024374961853\n",
      "Done converting scene 0 after 8.388829469680786\n",
      "Done converting scene 1 after 8.221089601516724\n",
      "Done converting scene 2 after 8.338766813278198\n",
      "Done loading scene 0 after 22.59524917602539\n",
      "Done loading scene 1 after 22.543356895446777\n",
      "Done loading scene 2 after 20.2226881980896\n",
      "Done converting scene 0 after 5.489962816238403\n",
      "Done converting scene 1 after 5.436808347702026\n",
      "Done converting scene 2 after 5.150369167327881\n"
     ]
    }
   ],
   "source": [
    "for s in AGED_SCANS:\n",
    "    OUTPUT_DIR = \"web/data/\" + s \n",
    "    \n",
    "    SCAN_DIR = os.path.join(AGED_DIR, s)\n",
    "    IMG_FILE = os.path.join(SCAN_DIR, os.listdir(SCAN_DIR)[0])\n",
    "    img = AICSImage(IMG_FILE)\n",
    "\n",
    "    slices = []\n",
    "    for i,s in enumerate(img.scenes):\n",
    "        t0 = time.time()\n",
    "\n",
    "        stack = img.get_stack(select_scenes=[i])\n",
    "\n",
    "        r = stack[0,0,0,0,:,:,2].astype(float)\n",
    "        r /= r.max()\n",
    "        r *= 255\n",
    "        r = r.astype(np.uint8)\n",
    "        g = stack[0,0,0,0,:,:,1].astype(float)\n",
    "        g /= g.max()\n",
    "        g *= 255\n",
    "        g = g.astype(np.uint8)\n",
    "        b = stack[0,0,0,0,:,:,0].astype(float)\n",
    "        b /= b.max()\n",
    "        b *= 255\n",
    "        b = b.astype(np.uint8)\n",
    "\n",
    "        arr = np.stack((r,g,b), axis=-1)\n",
    "        slices.append( arr )\n",
    "        print('Done loading scene', i, 'after', time.time()-t0)\n",
    "\n",
    "    for i,s in enumerate(slices):\n",
    "        t0 = time.time()\n",
    "        vips_img = pyvips.Image.new_from_array(s)\n",
    "        vips_img.dzsave(OUTPUT_DIR+'_'+str(i))\n",
    "        print('Done converting scene', i, 'after', time.time()-t0)\n"
   ]
  },
  {
   "cell_type": "code",
   "execution_count": null,
   "id": "c89fc4da",
   "metadata": {},
   "outputs": [],
   "source": []
  },
  {
   "cell_type": "code",
   "execution_count": null,
   "id": "397548b7",
   "metadata": {},
   "outputs": [],
   "source": []
  },
  {
   "cell_type": "code",
   "execution_count": null,
   "id": "377292d5",
   "metadata": {},
   "outputs": [],
   "source": []
  },
  {
   "cell_type": "code",
   "execution_count": null,
   "id": "30fe48e7",
   "metadata": {},
   "outputs": [],
   "source": []
  }
 ],
 "metadata": {
  "kernelspec": {
   "display_name": "Python 3 (ipykernel)",
   "language": "python",
   "name": "python3"
  },
  "language_info": {
   "codemirror_mode": {
    "name": "ipython",
    "version": 3
   },
   "file_extension": ".py",
   "mimetype": "text/x-python",
   "name": "python",
   "nbconvert_exporter": "python",
   "pygments_lexer": "ipython3",
   "version": "3.10.6"
  }
 },
 "nbformat": 4,
 "nbformat_minor": 5
}
